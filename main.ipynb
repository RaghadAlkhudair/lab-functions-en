{
 "cells": [
  {
   "cell_type": "markdown",
   "metadata": {},
   "source": [
    "# Functions"
   ]
  },
  {
   "cell_type": "markdown",
   "metadata": {},
   "source": [
    "On this lab we will put to practice some of the concepts we have learned on this past few days.\n",
    "\n",
    "`NOTE: On this lab you should try to write all the functions yourself using only the most basic of python syntax and without functions such as len, count, sum, max, min, in, etc. Give it a try. 🧑🏻‍💻👩🏻‍💻`\n",
    "\n",
    "The cell after each exercise contains a few tests to check if your function works as expected."
   ]
  },
  {
   "cell_type": "code",
   "execution_count": 20,
   "metadata": {},
   "outputs": [],
   "source": [
    "from mod.testing import *\n",
    "import unittest"
   ]
  },
  {
   "cell_type": "markdown",
   "metadata": {},
   "source": [
    "## 1. Write a function that returns the greater of two numbers"
   ]
  },
  {
   "cell_type": "code",
   "execution_count": 21,
   "metadata": {},
   "outputs": [],
   "source": [
    "def greater(a,b):\n",
    "    if a> b:\n",
    "        return a\n",
    "    else:\n",
    "        return b"
   ]
  },
  {
   "cell_type": "code",
   "execution_count": 22,
   "metadata": {},
   "outputs": [
    {
     "name": "stdout",
     "output_type": "stream",
     "text": [
      "The greater number between 10 and 5 is: 10\n"
     ]
    }
   ],
   "source": [
    "a=10\n",
    "b=5\n",
    "result= greater(a,b)\n",
    "print(f\"The greater number between {a} and {b} is: {result}\")"
   ]
  },
  {
   "cell_type": "markdown",
   "metadata": {},
   "source": [
    "## 2. Now write a function that returns the largest element on a list"
   ]
  },
  {
   "cell_type": "code",
   "execution_count": 23,
   "metadata": {},
   "outputs": [],
   "source": [
    "def find_largest_element(lst):\n",
    "    if not lst:\n",
    "        return None  # Return None for an empty list\n",
    "\n",
    "    largest = lst[0]  # Assume the first element is the largest\n",
    "    for num in lst:\n",
    "        if num > largest:\n",
    "            largest = num  # Update largest if a bigger element is found\n",
    "\n",
    "    return largest  # Return the largest element"
   ]
  },
  {
   "cell_type": "code",
   "execution_count": 24,
   "metadata": {},
   "outputs": [
    {
     "name": "stdout",
     "output_type": "stream",
     "text": [
      "The largest number in the list is: 30\n"
     ]
    }
   ],
   "source": [
    "numbers=[2,30,4,20]\n",
    "result= find_largest_element(numbers)\n",
    "print(f\"The largest number in the list is: {result}\")"
   ]
  },
  {
   "cell_type": "markdown",
   "metadata": {},
   "source": [
    "## 3. Write a function that sums all the elements on a list"
   ]
  },
  {
   "cell_type": "code",
   "execution_count": 47,
   "metadata": {},
   "outputs": [],
   "source": [
    "def sum_all(lst):\n",
    "    x = 0\n",
    "    for i in lst:\n",
    "        x += i\n",
    "    return sum(lst)"
   ]
  },
  {
   "cell_type": "code",
   "execution_count": 48,
   "metadata": {},
   "outputs": [
    {
     "name": "stdout",
     "output_type": "stream",
     "text": [
      "the sum of the list is 56\n"
     ]
    }
   ],
   "source": [
    "numbers= [2,30,4,20]\n",
    "result= sum_all(numbers)\n",
    "print(f\"the sum of the list is {result}\")"
   ]
  },
  {
   "cell_type": "markdown",
   "metadata": {},
   "source": [
    "## 4. Write another function that multiplies all the elements on a list"
   ]
  },
  {
   "cell_type": "code",
   "execution_count": 27,
   "metadata": {},
   "outputs": [],
   "source": [
    "def mult_all(lst):\n",
    "    if not lst:\n",
    "        return None  # Return None for an empty list\n",
    "    \n",
    "    product = 1  # Initialize product to 1\n",
    "    for num in lst:\n",
    "        product *= num  # Multiply each element with the product\n",
    "\n",
    "    return product  # Return the final product"
   ]
  },
  {
   "cell_type": "code",
   "execution_count": 28,
   "metadata": {},
   "outputs": [
    {
     "name": "stdout",
     "output_type": "stream",
     "text": [
      "the multiplication of the list is 4800\n"
     ]
    }
   ],
   "source": [
    "numbers= [2,30,4,20]\n",
    "result= mult_all(numbers)\n",
    "print(f\"the multiplication of the list is {result}\")"
   ]
  },
  {
   "cell_type": "markdown",
   "metadata": {},
   "source": [
    "## 5. Now combine those two ideas and write a function that receives a list and either \"+\" or \"*\" and outputs acordingly"
   ]
  },
  {
   "cell_type": "code",
   "execution_count": 29,
   "metadata": {},
   "outputs": [],
   "source": [
    "def oper_all(arr, oper = \"*\"):\n",
    "    if oper == \"*\":\n",
    "        result = 1\n",
    "        for number in arr:\n",
    "            result *= number\n",
    "    elif oper == \"+\":\n",
    "        result = 0\n",
    "        for number in arr:\n",
    "            result += number\n",
    "    else:\n",
    "        raise ValueError(\"Invalid operation. Use '*' for multiplication or '+' for addition.\")\n",
    "    return result"
   ]
  },
  {
   "cell_type": "code",
   "execution_count": 30,
   "metadata": {},
   "outputs": [
    {
     "name": "stdout",
     "output_type": "stream",
     "text": [
      "the multiplication of the list is 4800\n",
      "the sum of the list is 56\n"
     ]
    }
   ],
   "source": [
    "numbers = [2,30,4,20]\n",
    "\n",
    "# For multiplication\n",
    "result_mult = oper_all(numbers, \"*\")\n",
    "print(f\"the multiplication of the list is {result_mult}\")\n",
    "\n",
    "# For addition\n",
    "result_add = oper_all(numbers, \"+\")\n",
    "print(f\"the sum of the list is {result_add}\")"
   ]
  },
  {
   "cell_type": "markdown",
   "metadata": {},
   "source": [
    "## 6. Write a function that returns the factorial of a number."
   ]
  },
  {
   "cell_type": "code",
   "execution_count": 31,
   "metadata": {},
   "outputs": [],
   "source": [
    "#factorial formula\n",
    "#n! = n * ( n - 1 ) *...*1\n",
    "\n",
    "# This code defines a function called \"factorial\" which takes an input \"n\". The function uses a for loop to iterate through the range of numbers \n",
    "# from 1 to n+1. For each number in that range, it multiplies the current value of x by the number in the range. At the end of the loop, \n",
    "# the function returns the final value of x, which will be the factorial of the input number \"n\".\n",
    "\n",
    "# The Factorial of a positive integer n is the product of all positive integers less than or equal to n. \n",
    "# For example, the factorial of 6 (written \"6!\") is 6 * 5 * 4 * 3 * 2 * 1 = 720.\n",
    "\n",
    "# So this function takes an input of any positive integer, and returns the factorial of that number."
   ]
  },
  {
   "cell_type": "code",
   "execution_count": 32,
   "metadata": {},
   "outputs": [],
   "source": [
    "def factorial(n):\n",
    "    if n < 0:\n",
    "        return None  # Factorial is not defined for negative numbers\n",
    "    elif n == 0 or n == 1:\n",
    "        return 1  # Factorial of 0 and 1 is 1\n",
    "    else:\n",
    "        result = 1\n",
    "        for i in range(2, n + 1):  # Iterate from 2 to n\n",
    "            result *= i  # Multiply result by each number\n",
    "        return result"
   ]
  },
  {
   "cell_type": "code",
   "execution_count": 33,
   "metadata": {},
   "outputs": [
    {
     "name": "stdout",
     "output_type": "stream",
     "text": [
      "the factorial of number 7 is 5040\n"
     ]
    }
   ],
   "source": [
    "print(f\"the factorial of number 7 is {factorial(7)}\")"
   ]
  },
  {
   "cell_type": "markdown",
   "metadata": {},
   "source": [
    "## 7. Write a function that takes a list and returns a list of the unique values.\n",
    "\n",
    "`NOTE: You cannot use set. 🤔`"
   ]
  },
  {
   "cell_type": "code",
   "execution_count": 34,
   "metadata": {},
   "outputs": [],
   "source": [
    "def unique(lst_un):\n",
    "      unique_lst = []  # Store unique elements\n",
    "      for item in lst_un:\n",
    "        if item not in unique_lst:  \n",
    "            unique_lst.append(item)  # Add to the unique list\n",
    "      return unique_lst"
   ]
  },
  {
   "cell_type": "code",
   "execution_count": 35,
   "metadata": {},
   "outputs": [
    {
     "name": "stdout",
     "output_type": "stream",
     "text": [
      "Unique values: [1, 2, 3, 4, 5]\n"
     ]
    }
   ],
   "source": [
    "numbers = [1, 2, 2, 3, 4, 4, 5]\n",
    "unique(numbers)\n",
    "print(\"Unique values:\", unique(numbers))  # Output: Unique values: [1, 2, 3, 4, 5]"
   ]
  },
  {
   "cell_type": "markdown",
   "metadata": {},
   "source": [
    "## 8. Write a function that returns the mode of a list, i.e.: the element that appears the most times.\n",
    "`NOTE: You should not use count... 🧐`"
   ]
  },
  {
   "cell_type": "code",
   "execution_count": 36,
   "metadata": {},
   "outputs": [],
   "source": [
    "def mode_counter(arr):\n",
    "    if not arr:  # Check if the list is empty\n",
    "        return None  # Return None for an empty list\n",
    "\n",
    "    frequency = {}  # Dictionary to store frequency of each element\n",
    "\n",
    "    # Count the frequency of each element\n",
    "    for item in arr:\n",
    "        if item in frequency:\n",
    "            frequency[item] += 1  # Increment the count\n",
    "        else:\n",
    "            frequency[item] = 1  # Initialize the count\n",
    "\n",
    "    # Find the element with the highest frequency\n",
    "    mode = None\n",
    "    max_count = 0\n",
    "    for item, count in frequency.items():\n",
    "        if count > max_count:\n",
    "            mode = item\n",
    "            max_count = count\n",
    "\n",
    "    return mode"
   ]
  },
  {
   "cell_type": "code",
   "execution_count": 37,
   "metadata": {},
   "outputs": [
    {
     "name": "stdout",
     "output_type": "stream",
     "text": [
      "Mode of the list: 4\n"
     ]
    }
   ],
   "source": [
    "numbers = [1, 2, 2, 3, 3, 3, 4, 4, 4, 4]\n",
    "mode = mode_counter(numbers)\n",
    "print(\"Mode of the list:\", mode)"
   ]
  },
  {
   "cell_type": "markdown",
   "metadata": {},
   "source": [
    "## 9. Write a function that calculates the standard deviation of a list.\n",
    "`NOTE: Do not use any libraries or already built functions. 😉`"
   ]
  },
  {
   "cell_type": "code",
   "execution_count": 49,
   "metadata": {},
   "outputs": [],
   "source": [
    "def st_dev(list_sd):\n",
    "    sum_numbers = 0\n",
    "    sqrd = 0\n",
    "    for i in list_sd:\n",
    "        sum_numbers += i\n",
    "    med = sum_numbers / len(list_sd)\n",
    "    for i in list_sd:\n",
    "        sqrd += (i - med) ** 2\n",
    "    var = sqrd / (len(list_sd) -1)\n",
    "    dev = var ** 0.5\n",
    "    return std_dev\n",
    "\n",
    "    # if not list_sd:  # Check if the list is empty\n",
    "    #     return None  # Return None for an empty list\n",
    "\n",
    "    # # Step 1: Calculate the mean\n",
    "    # mean = sum(list_sd) / len(list_sd)\n",
    "\n",
    "    # # Step 2: Calculate the variance\n",
    "    # variance = sum((x - mean) ** 2 for x in list_sd) / len(list_sd)\n",
    "\n",
    "    # # Step 3: Calculate the standard deviation\n",
    "    # std_dev = variance ** 0.5  # Square root of variance\n",
    "\n",
    "    # return std_dev"
   ]
  },
  {
   "cell_type": "code",
   "execution_count": 50,
   "metadata": {},
   "outputs": [
    {
     "name": "stdout",
     "output_type": "stream",
     "text": [
      "Standard Deviation: 4.898979485566356\n"
     ]
    }
   ],
   "source": [
    "numbers = [10, 12, 23, 23, 16, 23, 21, 16]\n",
    "std_dev = st_dev(numbers)\n",
    "print(\"Standard Deviation:\", std_dev) "
   ]
  },
  {
   "cell_type": "markdown",
   "metadata": {},
   "source": [
    "## 10. Write a function to check if a string is a pangram, i.e.: if it contains all the letters of the alphabet at least once. Mind that the strings may contain characters that are not letters."
   ]
  },
  {
   "cell_type": "code",
   "execution_count": 40,
   "metadata": {},
   "outputs": [],
   "source": [
    "def pangram(string):\n",
    "    # Create a set of all lowercase letters\n",
    "    alphabet = set('abcdefghijklmnopqrstuvwxyz')\n",
    "\n",
    "    # Convert the input string to lowercase and create a set of its characters\n",
    "    s_lower = set(string.lower())\n",
    "\n",
    "    # Check if the alphabet set is a subset of the string's characters\n",
    "    return alphabet.issubset(s_lower)"
   ]
  },
  {
   "cell_type": "code",
   "execution_count": 41,
   "metadata": {},
   "outputs": [
    {
     "name": "stdout",
     "output_type": "stream",
     "text": [
      "True\n",
      "False\n"
     ]
    }
   ],
   "source": [
    "# Example 1: Pangram\n",
    "sentence = \"The quick brown fox jumps over the lazy dog\"\n",
    "print(pangram(sentence)) \n",
    "\n",
    "# Example 2: Not a pangram\n",
    "sentence_ = \"Hello, world!\"\n",
    "print(pangram(sentence_))"
   ]
  },
  {
   "cell_type": "markdown",
   "metadata": {},
   "source": [
    "## 11. Write a function that receives a string of comma separated words and returns a string of comma separated words sorted alphabetically.\n",
    "\n",
    "`NOTE: You may use sorted but not split and definitely no join! 🤪`"
   ]
  },
  {
   "cell_type": "code",
   "execution_count": 42,
   "metadata": {},
   "outputs": [],
   "source": [
    "def sort_alpha(string):\n",
    "    # Step 1: Extract words from the string\n",
    "    words = []\n",
    "    start = 0\n",
    "    for i, char in enumerate(string):\n",
    "        if char == ',':\n",
    "            words.append(string[start:i])  # Add the word to the list\n",
    "            start = i + 1  # Move the start index to the next character\n",
    "    # Add the last word (after the last comma)\n",
    "    words.append(string[start:])\n",
    "\n",
    "    # Step 2: Sort the words alphabetically\n",
    "    sorted_words = sorted(words)\n",
    "\n",
    "    # Step 3: Reconstruct the sorted string\n",
    "    sorted_string = ''\n",
    "    for i, word in enumerate(sorted_words):\n",
    "        if i > 0:  # Add a comma before each word except the first\n",
    "            sorted_string += ','\n",
    "        sorted_string += word\n",
    "\n",
    "    return sorted_string"
   ]
  },
  {
   "cell_type": "code",
   "execution_count": 43,
   "metadata": {},
   "outputs": [
    {
     "name": "stdout",
     "output_type": "stream",
     "text": [
      "Sorted string: apple,banana,cherry,date\n"
     ]
    }
   ],
   "source": [
    "input_string = \"banana,apple,cherry,date\"\n",
    "sorted_string = sort_alpha(input_string)\n",
    "print(\"Sorted string:\", sorted_string) "
   ]
  },
  {
   "cell_type": "markdown",
   "metadata": {},
   "source": [
    "## 12. Write a function to check if a given password is strong (at least 8 characters, at least one lower case, at least one upper case, at least one number and at least one special character). It should output True if strong and False if not."
   ]
  },
  {
   "cell_type": "code",
   "execution_count": 44,
   "metadata": {},
   "outputs": [],
   "source": [
    "def check_pass(password):\n",
    " # Check if the password is at least 8 characters long\n",
    "    if len(password) < 8:\n",
    "        return False\n",
    "\n",
    "    # Flags to track the presence of required character types\n",
    "    has_lowercase = False\n",
    "    has_uppercase = False\n",
    "    has_digit = False\n",
    "    has_special = False\n",
    "\n",
    "    # Define a set of special characters\n",
    "    special_characters = set('!@#$%^&*()-_=+[]{};:\\'\",.<>/?`~')\n",
    "\n",
    "    # Iterate through each character in the password\n",
    "    for char in password:\n",
    "        if char.islower():  # Check for lowercase letter\n",
    "            has_lowercase = True\n",
    "        elif char.isupper():  # Check for uppercase letter\n",
    "            has_uppercase = True\n",
    "        elif char.isdigit():  # Check for digit\n",
    "            has_digit = True\n",
    "        elif char in special_characters:  # Check for special character\n",
    "            has_special = True\n",
    "\n",
    "    # Return True only if all conditions are met\n",
    "    return has_lowercase and has_uppercase and has_digit and has_special"
   ]
  },
  {
   "cell_type": "code",
   "execution_count": 45,
   "metadata": {},
   "outputs": [
    {
     "name": "stdout",
     "output_type": "stream",
     "text": [
      "True\n",
      "False\n",
      "False\n",
      "False\n"
     ]
    }
   ],
   "source": [
    "password1 = \"Password123!\"\n",
    "print(check_pass(password1))\n",
    "\n",
    "password2 = \"Password123\"\n",
    "print(check_pass(password2)) \n",
    "\n",
    "password3 = \"Pwd1!\"\n",
    "print(check_pass(password3))\n",
    "\n",
    "password4 = \"password123!\"\n",
    "print(check_pass(password4)) "
   ]
  }
 ],
 "metadata": {
  "kernelspec": {
   "display_name": "Python 3",
   "language": "python",
   "name": "python3"
  },
  "language_info": {
   "codemirror_mode": {
    "name": "ipython",
    "version": 3
   },
   "file_extension": ".py",
   "mimetype": "text/x-python",
   "name": "python",
   "nbconvert_exporter": "python",
   "pygments_lexer": "ipython3",
   "version": "3.11.9"
  }
 },
 "nbformat": 4,
 "nbformat_minor": 4
}
